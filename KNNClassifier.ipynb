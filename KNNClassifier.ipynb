{
 "cells": [
  {
   "cell_type": "code",
   "execution_count": 74,
   "metadata": {},
   "outputs": [],
   "source": [
    "import pandas as pd"
   ]
  },
  {
   "cell_type": "code",
   "execution_count": 75,
   "metadata": {},
   "outputs": [],
   "source": [
    "train = pd.read_csv(r\"C:\\Users\\User\\Desktop\\hw2train.csv\")"
   ]
  },
  {
   "cell_type": "code",
   "execution_count": 76,
   "metadata": {},
   "outputs": [],
   "source": [
    "test = pd.read_csv(r\"C:\\Users\\User\\Desktop\\hw2test.csv\")"
   ]
  },
  {
   "cell_type": "code",
   "execution_count": 99,
   "metadata": {},
   "outputs": [],
   "source": [
    "#We assign the values in the first two columns of train csv file into variable X\n",
    "X = train.iloc[:, [0,1]].values\n",
    "#Then we assign the values in the thirds (last) column into variable Y\n",
    "Y = train.iloc[:, 2].values          "
   ]
  },
  {
   "cell_type": "code",
   "execution_count": 100,
   "metadata": {},
   "outputs": [
    {
     "name": "stdout",
     "output_type": "stream",
     "text": [
      "0.8256\n"
     ]
    }
   ],
   "source": [
    "#We apply KNN model with value k=5 to our training data\n",
    "from sklearn import metrics\n",
    "import numpy as np \n",
    "from sklearn.neighbors import KNeighborsClassifier\n",
    "\n",
    "knn = KNeighborsClassifier(n_neighbors=5)\n",
    "knn.fit(X, Y)\n",
    "\n",
    "Y_pred = knn.predict(X)\n",
    "print(metrics.accuracy_score(Y, Y_pred))"
   ]
  },
  {
   "cell_type": "code",
   "execution_count": 101,
   "metadata": {},
   "outputs": [
    {
     "name": "stdout",
     "output_type": "stream",
     "text": [
      "0.8692\n"
     ]
    }
   ],
   "source": [
    "#This time we apply KNN model with value k=1 \n",
    "from sklearn import metrics\n",
    "import numpy as np \n",
    "from sklearn.neighbors import KNeighborsClassifier\n",
    "knn = KNeighborsClassifier(n_neighbors=1)\n",
    "knn.fit(X, Y)\n",
    "\n",
    "Y_pred = knn.predict(X)\n",
    "print(metrics.accuracy_score(Y, Y_pred))"
   ]
  },
  {
   "cell_type": "code",
   "execution_count": 102,
   "metadata": {},
   "outputs": [
    {
     "name": "stdout",
     "output_type": "stream",
     "text": [
      "(2500, 2)\n",
      "(2500,)\n"
     ]
    }
   ],
   "source": [
    "#This step is not necessary but we can calculate the dimensions of our X and Y variables\n",
    "print(X.shape)\n",
    "print(Y.shape)"
   ]
  },
  {
   "cell_type": "code",
   "execution_count": 112,
   "metadata": {},
   "outputs": [],
   "source": [
    "#Now we assign the values of the first two columns in test file into variable named Xtest\n",
    "Xtest = test.iloc[:, [0,1]].values\n",
    "#Now we assign the values of the third (last) column in test file into variable named Ytest\n",
    "Ytest = test.iloc[:, 2].values\n"
   ]
  },
  {
   "cell_type": "code",
   "execution_count": 113,
   "metadata": {},
   "outputs": [
    {
     "name": "stdout",
     "output_type": "stream",
     "text": [
      "(5000, 2)\n",
      "(5000,)\n"
     ]
    }
   ],
   "source": [
    "#This step is not necessary but we can calculate the dimensions of our Xtest and Ytest variables\n",
    "print(Xtest.shape)\n",
    "print(Ytest.shape)"
   ]
  },
  {
   "cell_type": "code",
   "execution_count": 114,
   "metadata": {},
   "outputs": [
    {
     "name": "stdout",
     "output_type": "stream",
     "text": [
      "0.7944\n"
     ]
    }
   ],
   "source": [
    "#checking our testing data for k=5 \n",
    "knn = KNeighborsClassifier(n_neighbors=5)\n",
    "knn.fit(X, Y)\n",
    "Y_pred = knn.predict(Xtest)\n",
    "print(metrics.accuracy_score(Ytest, Y_pred))"
   ]
  },
  {
   "cell_type": "code",
   "execution_count": 115,
   "metadata": {},
   "outputs": [
    {
     "name": "stdout",
     "output_type": "stream",
     "text": [
      "[0.7992, 0.8076, 0.7944, 0.8094, 0.827, 0.8288, 0.8362, 0.8316, 0.8294, 0.8278, 0.8264, 0.8266, 0.825, 0.8236, 0.8234]\n"
     ]
    }
   ],
   "source": [
    "# try our test data with odd numbers for different k values \n",
    "k_range = range(1, 30, 2)\n",
    "scores = []\n",
    "\n",
    "# We use a loop through the range 1 to 30 and we only took the odd numbers\n",
    "# We append the scores in a dictionary\n",
    "for k in k_range:\n",
    "    knn = KNeighborsClassifier(n_neighbors=k)\n",
    "    \n",
    "    knn.fit(X, Y)\n",
    "    Y_pred = knn.predict(Xtest)\n",
    "    scores.append(metrics.accuracy_score(Ytest, Y_pred))\n",
    "\n",
    "print(scores)"
   ]
  },
  {
   "cell_type": "code",
   "execution_count": 116,
   "metadata": {},
   "outputs": [
    {
     "name": "stdout",
     "output_type": "stream",
     "text": [
      "[0.8692, 0.8472, 0.8256, 0.8388, 0.8428, 0.8412, 0.8504, 0.8472, 0.8424, 0.8404, 0.8364, 0.8352, 0.8328, 0.8308, 0.832]\n"
     ]
    }
   ],
   "source": [
    "#try our training data with odd numbers for different k values\n",
    "k_ranges = range(1, 30, 2)\n",
    "\n",
    "scoress = []\n",
    "for k in k_ranges:\n",
    "    knn = KNeighborsClassifier(n_neighbors=k)\n",
    "    \n",
    "    knn.fit(X, Y)\n",
    "    Y_pred = knn.predict(X)\n",
    "    scoress.append(metrics.accuracy_score(Y, Y_pred))\n",
    "\n",
    "print(scoress)"
   ]
  },
  {
   "cell_type": "code",
   "execution_count": 117,
   "metadata": {},
   "outputs": [
    {
     "data": {
      "text/plain": [
       "Text(0,0.5,'Accuracy')"
      ]
     },
     "execution_count": 117,
     "metadata": {},
     "output_type": "execute_result"
    },
    {
     "data": {
      "image/png": "[encoded data removed]",
      "text/plain": [
       "<matplotlib.figure.Figure at 0x1cf9a645400>"
      ]
     },
     "metadata": {},
     "output_type": "display_data"
    }
   ],
   "source": [
    "import matplotlib.pyplot as plt\n",
    "\n",
    "#We'll plot our graphs of training accuracy and testing accuracy\n",
    "%matplotlib inline\n",
    "\n",
    "\n",
    "plt.title('k-NN Varying Number of Neighbors')\n",
    "plt.plot(k_ranges, scoress, label=\"Training accuracy\")\n",
    "plt.plot(k_range, scores, label=\"Testing accuracy\")\n",
    "\n",
    "plt.xlabel('Number of neighbors')\n",
    "plt.ylabel('Accuracy')"
   ]
  },
  {
   "cell_type": "code",
   "execution_count": 118,
   "metadata": {},
   "outputs": [
    {
     "name": "stdout",
     "output_type": "stream",
     "text": [
      "0.827\n"
     ]
    }
   ],
   "source": [
    "#testing our model with different k values\n",
    "knn = KNeighborsClassifier(n_neighbors=9)\n",
    "knn.fit(X, Y)\n",
    "\n",
    "Y_pred = knn.predict(Xtest)\n",
    "print(metrics.accuracy_score(Ytest, Y_pred))"
   ]
  },
  {
   "cell_type": "code",
   "execution_count": 119,
   "metadata": {},
   "outputs": [
    {
     "name": "stdout",
     "output_type": "stream",
     "text": [
      "0.8362\n"
     ]
    }
   ],
   "source": [
    "#testing our model with different k values\n",
    "knn = KNeighborsClassifier(n_neighbors=13)\n",
    "knn.fit(X, Y)\n",
    "\n",
    "Y_pred = knn.predict(Xtest)\n",
    "print(metrics.accuracy_score(Ytest, Y_pred))"
   ]
  },
  {
   "cell_type": "code",
   "execution_count": null,
   "metadata": {},
   "outputs": [],
   "source": []
  }
 ],
 "metadata": {
  "kernelspec": {
   "display_name": "Python 3",
   "language": "python",
   "name": "python3"
  },
  "language_info": {
   "codemirror_mode": {
    "name": "ipython",
    "version": 3
   },
   "file_extension": ".py",
   "mimetype": "text/x-python",
   "name": "python",
   "nbconvert_exporter": "python",
   "pygments_lexer": "ipython3",
   "version": "3.6.4"
  }
 },
 "nbformat": 4,
 "nbformat_minor": 2
}
